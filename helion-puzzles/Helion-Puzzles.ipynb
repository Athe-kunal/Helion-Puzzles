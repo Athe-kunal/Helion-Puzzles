{
 "cells": [
  {
   "cell_type": "code",
   "execution_count": 1,
   "id": "bfd50fde",
   "metadata": {},
   "outputs": [],
   "source": [
    "import logging\n",
    "\n",
    "import helion\n",
    "import helion.language as hl\n",
    "import torch\n",
    "from torch import Tensor\n",
    "\n",
    "# If you set this to info you will see the output Triton Code\n",
    "logging.getLogger().setLevel(logging.WARNING)"
   ]
  },
  {
   "cell_type": "code",
   "execution_count": 2,
   "id": "ae9ce4cf",
   "metadata": {},
   "outputs": [],
   "source": [
    "from triton.testing import do_bench\n",
    "def test_kernel(kernel_fn, spec_fn, *args):\n",
    "    \"\"\"Test a Helion kernel against a reference implementation.\"\"\"\n",
    "    # Run our implementation\n",
    "    result = kernel_fn(*args)\n",
    "    # Run reference implementation\n",
    "    expected = spec_fn(*args)\n",
    "\n",
    "    # Check if results match\n",
    "    torch.testing.assert_close(result, expected)\n",
    "    print(\"✅ Results Match ✅\")\n",
    "\n",
    "def benchmark_kernel(kernel_fn, *args, **kwargs):\n",
    "    \"\"\"Benchmark a Helion kernel.\"\"\"\n",
    "    no_args = lambda: kernel_fn(*args, **kwargs)\n",
    "    time_in_ms = do_bench(no_args)\n",
    "    print(f\"⏱ Time: {time_in_ms} ms\")\n",
    "\n",
    "def compare_implementations(kernel_fn, spec_fn, *args, **kwargs):\n",
    "    \"\"\"Benchmark a Helion kernel and its reference implementation.\"\"\"\n",
    "    kernel_no_args = lambda: kernel_fn(*args, **kwargs)\n",
    "    spec_no_args = lambda: spec_fn(*args, **kwargs)\n",
    "    kernel_time = do_bench(kernel_no_args)\n",
    "    spec_time = do_bench(spec_no_args)\n",
    "    print(f\"⏱ Helion Kernel Time: {kernel_time:.3f} ms, PyTorch Reference Time: {spec_time:.3f} ms, Speedup: {spec_time/kernel_time:.3f}x\")"
   ]
  },
  {
   "cell_type": "code",
   "execution_count": null,
   "id": "479d0456",
   "metadata": {},
   "outputs": [
    {
     "name": "stdout",
     "output_type": "stream",
     "text": [
      "✅ Results Match ✅\n",
      "⏱ Time: 0.006967028159056312 ms\n",
      "⏱ Helion Kernel Time: 0.007 ms, PyTorch Reference Time: 0.006 ms, Speedup: 0.907x\n"
     ]
    }
   ],
   "source": [
    "@helion.kernel(config=helion.Config(block_sizes=[128,128]))\n",
    "def example_add(x: torch.Tensor, y: torch.Tensor) -> torch.Tensor:\n",
    "    m, n = x.size()\n",
    "    out = torch.empty_like(x)    \n",
    "    for tile_m, tile_n in hl.tile([m,n]):\n",
    "        out[tile_m, tile_n] = x[tile_m, tile_n] + y[tile_m,tile_n]\n",
    "    return out\n",
    "\n",
    "# Create some sample data\n",
    "x = torch.randn(10, 10, device=\"cuda\")\n",
    "y = torch.randn(10, 10, device=\"cuda\")\n",
    "\n",
    "# Run the kernel\n",
    "result = example_add(x, y)\n",
    "\n",
    "# Verify result\n",
    "expected = x + y\n",
    "torch.testing.assert_close(result, expected)\n",
    "print(\"✅ Results Match ✅\")\n",
    "benchmark_kernel(example_add, x, y)\n",
    "compare_implementations(example_add, torch.add, x, y)"
   ]
  },
  {
   "cell_type": "code",
   "execution_count": 4,
   "id": "ad25f4ef",
   "metadata": {},
   "outputs": [],
   "source": [
    "@helion.kernel()\n",
    "def example_add(x: torch.Tensor, y: torch.Tensor) -> torch.Tensor:\n",
    "    m, n = x.size()\n",
    "    out = torch.empty_like(x)    \n",
    "    for tile_m, tile_n in hl.tile([m,n]):\n",
    "        out[tile_m, tile_n] = x[tile_m, tile_n] + y[tile_m,tile_n]\n",
    "    return out"
   ]
  },
  {
   "cell_type": "code",
   "execution_count": 5,
   "id": "57a9eba7",
   "metadata": {},
   "outputs": [
    {
     "name": "stderr",
     "output_type": "stream",
     "text": [
      "[0s] Autotune random seed: 499402173\n",
      "[0s] Starting autotuning process, this may take a while...\n",
      "[0s] Starting PatternSearch with initial_population=100, copies=5, max_generations=20\n"
     ]
    },
    {
     "data": {
      "text/html": [
       "<pre style=\"white-space:pre;overflow-x:auto;line-height:normal;font-family:Menlo,'DejaVu Sans Mono',consolas,'Courier New',monospace\">/home/recoverx/astarag/Helion-Puzzles/.venv/lib/python3.13/site-packages/rich/live.py:256: UserWarning: install \n",
       "\"ipywidgets\" for Jupyter support\n",
       "  warnings.warn('install \"ipywidgets\" for Jupyter support')\n",
       "</pre>\n"
      ],
      "text/plain": [
       "/home/recoverx/astarag/Helion-Puzzles/.venv/lib/python3.13/site-packages/rich/live.py:256: UserWarning: install \n",
       "\"ipywidgets\" for Jupyter support\n",
       "  warnings.warn('install \"ipywidgets\" for Jupyter support')\n"
      ]
     },
     "metadata": {},
     "output_type": "display_data"
    },
    {
     "data": {
      "text/html": [
       "<pre style=\"white-space:pre;overflow-x:auto;line-height:normal;font-family:Menlo,'DejaVu Sans Mono',consolas,'Courier New',monospace\"></pre>\n"
      ],
      "text/plain": []
     },
     "metadata": {},
     "output_type": "display_data"
    },
    {
     "data": {
      "text/html": [
       "<pre style=\"white-space:pre;overflow-x:auto;line-height:normal;font-family:Menlo,'DejaVu Sans Mono',consolas,'Courier New',monospace\"></pre>\n"
      ],
      "text/plain": []
     },
     "metadata": {},
     "output_type": "display_data"
    },
    {
     "data": {
      "text/html": [
       "<pre style=\"white-space:pre;overflow-x:auto;line-height:normal;font-family:Menlo,'DejaVu Sans Mono',consolas,'Courier New',monospace\"></pre>\n"
      ],
      "text/plain": []
     },
     "metadata": {},
     "output_type": "display_data"
    },
    {
     "name": "stderr",
     "output_type": "stream",
     "text": [
      "[25s] Initial random population of 100, 5 starting points: ok=100 min=0.0051 mid=0.0061 max=0.0072 best=Config(block_sizes=[1, 16], flatten_loops=[True], indexing='block_ptr', l2_groupings=[32], load_eviction_policies=['', ''], loop_orders=[[0, 1]], num_stages=2, num_warps=8, pid_type='flat', range_flattens=[None], range_multi_buffers=[None], range_num_stages=[0], range_unroll_factors=[0], range_warp_specializes=[])\n",
      "[25s] Generation 1 starting: 115 neighbors, 5 active search path(s)\n"
     ]
    },
    {
     "data": {
      "text/html": [
       "<pre style=\"white-space:pre;overflow-x:auto;line-height:normal;font-family:Menlo,'DejaVu Sans Mono',consolas,'Courier New',monospace\"></pre>\n"
      ],
      "text/plain": []
     },
     "metadata": {},
     "output_type": "display_data"
    },
    {
     "data": {
      "text/html": [
       "<pre style=\"white-space:pre;overflow-x:auto;line-height:normal;font-family:Menlo,'DejaVu Sans Mono',consolas,'Courier New',monospace\"></pre>\n"
      ],
      "text/plain": []
     },
     "metadata": {},
     "output_type": "display_data"
    },
    {
     "data": {
      "text/html": [
       "<pre style=\"white-space:pre;overflow-x:auto;line-height:normal;font-family:Menlo,'DejaVu Sans Mono',consolas,'Courier New',monospace\"></pre>\n"
      ],
      "text/plain": []
     },
     "metadata": {},
     "output_type": "display_data"
    },
    {
     "name": "stderr",
     "output_type": "stream",
     "text": [
      "[55s] Generation 1 complete: ok=120 min=0.0051 mid=0.0072 max=0.0072 best=Config(block_sizes=[2, 16], flatten_loops=[True], indexing='block_ptr', l2_groupings=[32], load_eviction_policies=['', ''], loop_orders=[[0, 1]], num_stages=2, num_warps=8, pid_type='flat', range_flattens=[None], range_multi_buffers=[None], range_num_stages=[0], range_unroll_factors=[0], range_warp_specializes=[])\n",
      "[55s] Generation 2 starting: 106 neighbors, 5 active search path(s)\n"
     ]
    },
    {
     "data": {
      "text/html": [
       "<pre style=\"white-space:pre;overflow-x:auto;line-height:normal;font-family:Menlo,'DejaVu Sans Mono',consolas,'Courier New',monospace\"></pre>\n"
      ],
      "text/plain": []
     },
     "metadata": {},
     "output_type": "display_data"
    },
    {
     "data": {
      "text/html": [
       "<pre style=\"white-space:pre;overflow-x:auto;line-height:normal;font-family:Menlo,'DejaVu Sans Mono',consolas,'Courier New',monospace\"></pre>\n"
      ],
      "text/plain": []
     },
     "metadata": {},
     "output_type": "display_data"
    },
    {
     "data": {
      "text/html": [
       "<pre style=\"white-space:pre;overflow-x:auto;line-height:normal;font-family:Menlo,'DejaVu Sans Mono',consolas,'Courier New',monospace\"></pre>\n"
      ],
      "text/plain": []
     },
     "metadata": {},
     "output_type": "display_data"
    },
    {
     "name": "stderr",
     "output_type": "stream",
     "text": [
      "[82s] Generation 2 complete: ok=111 min=0.0061 mid=0.0061 max=0.0072 best=Config(block_sizes=[2, 16], flatten_loops=[True], indexing='block_ptr', l2_groupings=[32], load_eviction_policies=['', ''], loop_orders=[[0, 1]], num_stages=2, num_warps=8, pid_type='flat', range_flattens=[None], range_multi_buffers=[None], range_num_stages=[0], range_unroll_factors=[0], range_warp_specializes=[])\n",
      "[82s] Autotuning complete in 83.0s after searching 321 configs.\n",
      "One can hardcode the best config and skip autotuning with:\n",
      "    @helion.kernel(config=helion.Config(block_sizes=[2, 16], flatten_loops=[True], indexing='block_ptr', l2_groupings=[32], load_eviction_policies=['', ''], loop_orders=[[0, 1]], num_stages=2, num_warps=8, pid_type='flat', range_flattens=[None], range_multi_buffers=[None], range_num_stages=[0], range_unroll_factors=[0], range_warp_specializes=[]), static_shapes=True)\n",
      "\n"
     ]
    },
    {
     "name": "stdout",
     "output_type": "stream",
     "text": [
      "✅ Results Match ✅\n",
      "⏱ Time: 0.006280533405434754 ms\n",
      "⏱ Helion Kernel Time: 0.006 ms, PyTorch Reference Time: 0.006 ms, Speedup: 1.001x\n"
     ]
    }
   ],
   "source": [
    "x = torch.randn(10, 10, device=\"cuda\")\n",
    "y = torch.randn(10, 10, device=\"cuda\")\n",
    "\n",
    "# Run the kernel\n",
    "result = example_add(x, y)\n",
    "\n",
    "# Verify result\n",
    "expected = x + y\n",
    "torch.testing.assert_close(result, expected)\n",
    "print(\"✅ Results Match ✅\")\n",
    "benchmark_kernel(example_add, x, y)\n",
    "compare_implementations(example_add, torch.add, x, y)"
   ]
  },
  {
   "cell_type": "markdown",
   "id": "e5c23dd6",
   "metadata": {},
   "source": [
    "## PUZZLE 1: CONSTANT ADD"
   ]
  },
  {
   "cell_type": "code",
   "execution_count": 10,
   "id": "0309fd22",
   "metadata": {},
   "outputs": [
    {
     "name": "stdout",
     "output_type": "stream",
     "text": [
      "✅ Results Match ✅\n",
      "⏱ Time: 0.01255107654364613 ms\n",
      "⏱ Helion Kernel Time: 0.012 ms, PyTorch Reference Time: 0.006 ms, Speedup: 0.507x\n"
     ]
    }
   ],
   "source": [
    "\n",
    "def add_spec(x: Tensor) -> Tensor:\n",
    "    \"\"\"This is the spec that you should implement in the helion kernel below.\"\"\"\n",
    "    return x + 10.\n",
    "\n",
    "# ---- ✨ Is this the best block size? ----\n",
    "@helion.kernel(config = helion.Config(block_sizes = [1,]))\n",
    "def add_kernel(x: torch.Tensor) -> torch.Tensor:\n",
    "    # ---- ✨ Your Code Here ✨----\n",
    "    # Set up the output buffer which you will return\n",
    "    out = torch.empty_like(x)\n",
    "    n = x.size()[0]\n",
    "    # Use Helion to tile the computation\n",
    "    for tile_n in hl.tile(n):\n",
    "         out[tile_n] = x[tile_n] + 10\n",
    "\n",
    "    return out\n",
    "\n",
    "# Test the kernel\n",
    "x = torch.randn(8192, device=\"cuda\")\n",
    "test_kernel(add_kernel, add_spec, x)\n",
    "benchmark_kernel(add_kernel, x)\n",
    "compare_implementations(add_kernel, add_spec, x)"
   ]
  },
  {
   "cell_type": "code",
   "execution_count": 13,
   "id": "277800b8",
   "metadata": {},
   "outputs": [
    {
     "name": "stdout",
     "output_type": "stream",
     "text": [
      "✅ Results Match ✅\n",
      "⏱ Time: 0.01174441568081739 ms\n",
      "⏱ Helion Kernel Time: 0.006 ms, PyTorch Reference Time: 0.006 ms, Speedup: 1.004x\n"
     ]
    }
   ],
   "source": [
    "\n",
    "def add_spec(x: Tensor) -> Tensor:\n",
    "    \"\"\"This is the spec that you should implement in the helion kernel below.\"\"\"\n",
    "    return x + 10.\n",
    "\n",
    "# ---- ✨ Is this the best block size? ----\n",
    "@helion.kernel(config = helion.Config(block_sizes = [128,]))\n",
    "def add_kernel(x: torch.Tensor) -> torch.Tensor:\n",
    "    # ---- ✨ Your Code Here ✨----\n",
    "    # Set up the output buffer which you will return\n",
    "    out = torch.empty_like(x)\n",
    "    n = x.size()[0]\n",
    "    # Use Helion to tile the computation\n",
    "    for tile_n in hl.tile(n):\n",
    "         out[tile_n] = x[tile_n] + 10\n",
    "\n",
    "    return out\n",
    "\n",
    "# Test the kernel\n",
    "x = torch.randn(8192, device=\"cuda\")\n",
    "test_kernel(add_kernel, add_spec, x)\n",
    "benchmark_kernel(add_kernel, x)\n",
    "compare_implementations(add_kernel, add_spec, x)"
   ]
  },
  {
   "cell_type": "markdown",
   "id": "068b2c6b",
   "metadata": {},
   "source": [
    "## PUZZLE 2: OUTER VECTOR ADD"
   ]
  },
  {
   "cell_type": "code",
   "execution_count": 15,
   "id": "ea3acef8",
   "metadata": {},
   "outputs": [
    {
     "name": "stdout",
     "output_type": "stream",
     "text": [
      "✅ Results Match ✅\n",
      "⏱ Time: 0.007596276778106888 ms\n",
      "⏱ Helion Kernel Time: 0.008 ms, PyTorch Reference Time: 0.009 ms, Speedup: 1.047x\n"
     ]
    }
   ],
   "source": [
    "def broadcast_add_spec(x: Tensor, y: Tensor) -> Tensor:\n",
    "    return x[None, :] + y[:, None]\n",
    "\n",
    "# ---- ✨ Is this the best block size? ----\n",
    "@helion.kernel(config = helion.Config(block_sizes = [32, 32]))\n",
    "def broadcast_add_kernel(x: torch.Tensor, y: torch.Tensor) -> torch.Tensor:\n",
    "    # Get tensor sizes\n",
    "     # ---- ✨ Your Code Here ✨----\n",
    "    n0 = x.size(0)\n",
    "    n1 = y.size(0)\n",
    "    out = x.new_empty(n1, n0)\n",
    "\n",
    "    # Use Helion to tile the computation\n",
    "    for tile_i, tile_j in hl.tile([n1, n0]):\n",
    "        # Get tiles from x and y\n",
    "        y_tile = y[tile_i]\n",
    "        x_tile = x[tile_j]\n",
    "        # Compute outer sum\n",
    "        out[tile_i, tile_j] = y_tile[:, None] + x_tile[None, :]\n",
    "\n",
    "    return out\n",
    "\n",
    "# Test the kernel\n",
    "x = torch.randn(1142, device=\"cuda\")\n",
    "y = torch.randn(512, device=\"cuda\")\n",
    "test_kernel(broadcast_add_kernel, broadcast_add_spec, x, y)\n",
    "benchmark_kernel(broadcast_add_kernel, x, y)\n",
    "compare_implementations(broadcast_add_kernel, broadcast_add_spec, x, y)"
   ]
  },
  {
   "cell_type": "markdown",
   "id": "8861ace2",
   "metadata": {},
   "source": [
    "## PUZZLE 3"
   ]
  },
  {
   "cell_type": "code",
   "execution_count": 17,
   "id": "eba7dadb",
   "metadata": {},
   "outputs": [
    {
     "name": "stdout",
     "output_type": "stream",
     "text": [
      "✅ Results Match ✅\n",
      "⏱ Helion Kernel Time: 0.008 ms, PyTorch Reference Time: 0.011 ms, Speedup: 1.520x\n"
     ]
    }
   ],
   "source": [
    "def mul_relu_block_spec(x: torch.Tensor, y: torch.Tensor) -> torch.Tensor:\n",
    "    return torch.relu(x[None,:]*y[:,None])\n",
    "\n",
    "@helion.kernel(config = helion.Config(block_sizes = [32, 32]))\n",
    "def mul_relu_block_kernel(x: torch.Tensor, y: torch.Tensor) -> torch.Tensor:\n",
    "    n0 = x.size(0)\n",
    "    n1 = y.size(0)\n",
    "    out = x.new_empty(n1,n0)\n",
    "    \n",
    "    for tile_i, tile_j in hl.tile([n1, n0]):\n",
    "        y_tile = y[tile_i]\n",
    "        x_tile = x[tile_j]\n",
    "        \n",
    "        out[tile_i, tile_j] = torch.relu(x_tile[None,:] * y_tile[:,None])\n",
    "    \n",
    "    return out\n",
    "\n",
    "# Test the kernel\n",
    "x = torch.randn(512, device=\"cuda\")\n",
    "y = torch.randn(512, device=\"cuda\")\n",
    "test_kernel(mul_relu_block_kernel, mul_relu_block_spec, x, y)\n",
    "compare_implementations(mul_relu_block_kernel, mul_relu_block_spec, x, y)"
   ]
  },
  {
   "cell_type": "code",
   "execution_count": null,
   "id": "746ee904",
   "metadata": {},
   "outputs": [],
   "source": []
  }
 ],
 "metadata": {
  "kernelspec": {
   "display_name": "helion-puzzles",
   "language": "python",
   "name": "python3"
  },
  "language_info": {
   "codemirror_mode": {
    "name": "ipython",
    "version": 3
   },
   "file_extension": ".py",
   "mimetype": "text/x-python",
   "name": "python",
   "nbconvert_exporter": "python",
   "pygments_lexer": "ipython3",
   "version": "3.13.1"
  }
 },
 "nbformat": 4,
 "nbformat_minor": 5
}
